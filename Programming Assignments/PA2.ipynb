{
 "cells": [
  {
   "cell_type": "markdown",
   "id": "87812c81",
   "metadata": {},
   "source": [
    "# Assignment 2: Basic Python Programming\n",
    "## By Noah Isaac\n",
    "## 2025FA CS-150-01 Fall 2025\n"
   ]
  },
  {
   "cell_type": "markdown",
   "id": "e62747e7",
   "metadata": {},
   "source": [
    "Task 1: Personal Information - Print your personal information"
   ]
  },
  {
   "cell_type": "code",
   "execution_count": 1,
   "id": "f8734d78",
   "metadata": {},
   "outputs": [
    {
     "name": "stdin",
     "output_type": "stream",
     "text": [
      "Enter name: noah\n",
      "Enter age: 5\n",
      "Enter Height in cm: 200000\n",
      "Enter Color: blue\n"
     ]
    },
    {
     "name": "stdout",
     "output_type": "stream",
     "text": [
      "My name is [name], I am 5 years old, I am 200000 cm/in tall, and my favorite color is blue\n"
     ]
    }
   ],
   "source": [
    "name = input(\"Enter name:\")\n",
    "age = input(\"Enter age:\")\n",
    "height = input(\"Enter Height in cm:\")\n",
    "color = input(\"Enter Color:\")\n",
    "print(\"My name is\" + name + \", I am \"  + age + \" years old, I am \" + height + \" cm/in tall, and my favorite color is \" + color)"
   ]
  },
  {
   "cell_type": "markdown",
   "id": "c5987a3a-2476-47ae-843f-a07aa422f484",
   "metadata": {},
   "source": [
    "Task 2: Distance Conversion"
   ]
  },
  {
   "cell_type": "code",
   "execution_count": 3,
   "id": "69e2abc4-6b0d-4aad-b880-43377fd27339",
   "metadata": {},
   "outputs": [
    {
     "name": "stdin",
     "output_type": "stream",
     "text": [
      "Insert miles: 20\n"
     ]
    },
    {
     "name": "stdout",
     "output_type": "stream",
     "text": [
      "The distance is 20.0 miles, which is the equivalent of 32.1868kilometers.\n"
     ]
    }
   ],
   "source": [
    "miles = float(input(\"Insert miles:\"))\n",
    "kilometers=miles * 1.60934\n",
    "print(\"The distance is \" + str(miles) + \" miles, which is the equivalent of \" + str(kilometers) + \" kilometers.\")"
   ]
  },
  {
   "cell_type": "markdown",
   "id": "d3ca9584-7b54-48e2-abe5-d35f98eb9729",
   "metadata": {},
   "source": [
    "Task 3: Working with Running Times"
   ]
  },
  {
   "cell_type": "code",
   "execution_count": 9,
   "id": "fe24ccf2-09e4-4564-8893-8be77a611db5",
   "metadata": {},
   "outputs": [
    {
     "name": "stdout",
     "output_type": "stream",
     "text": [
      "total: 36\n",
      "improvement: -24\n",
      "run 2 twice:60\n",
      "average:18.0\n"
     ]
    }
   ],
   "source": [
    "run1 = 6\n",
    "run2 = 30\n",
    "print(\"total: \" + str(6 + 30))\n",
    "print(\"improvement: \" + str(6 - 30))\n",
    "print(\"run 2 twice:\" + str(run2 * 2))\n",
    "print(\"average:\" + str((run1+run2)/2))"
   ]
  },
  {
   "cell_type": "markdown",
   "id": "36930836-5a16-4c2c-a8b9-d80cabc4c47a",
   "metadata": {},
   "source": [
    "Task 4: String Manipulation "
   ]
  },
  {
   "cell_type": "code",
   "execution_count": 13,
   "id": "e9c3557f-47d5-448b-aed5-99597ee305c0",
   "metadata": {},
   "outputs": [
    {
     "name": "stdout",
     "output_type": "stream",
     "text": [
      "length:45\n",
      "THE ONLY THING WE HAVE TO FEAR IS FEAR ITSELF\n",
      "the only thing we have to fear is fear itself\n",
      "The only thing we have to fear is fear itself\n"
     ]
    }
   ],
   "source": [
    "q = \"The only thing we have to fear is fear itself\"\n",
    "print(\"length:\"+str(len(q)))\n",
    "print(q.upper())\n",
    "print(q.lower())\n",
    "print(q.lstrip())\n",
    "print(q.split())"
   ]
  },
  {
   "cell_type": "markdown",
   "id": "9c0dc8a6-f52f-4d09-b30d-63c0b2f00e48",
   "metadata": {},
   "source": [
    "Task 5: User Input and Operations"
   ]
  },
  {
   "cell_type": "code",
   "execution_count": 14,
   "id": "9ab48d3a-279b-42ce-918c-00bdca19666b",
   "metadata": {},
   "outputs": [
    {
     "name": "stdin",
     "output_type": "stream",
     "text": [
      " 23\n",
      " 33\n"
     ]
    },
    {
     "ename": "NameError",
     "evalue": "name 'math' is not defined",
     "output_type": "error",
     "traceback": [
      "\u001b[1;31m---------------------------------------------------------------------------\u001b[0m",
      "\u001b[1;31mNameError\u001b[0m                                 Traceback (most recent call last)",
      "Cell \u001b[1;32mIn[14], line 3\u001b[0m\n\u001b[0;32m      1\u001b[0m a \u001b[38;5;241m=\u001b[39m \u001b[38;5;28mint\u001b[39m(\u001b[38;5;28minput\u001b[39m())\n\u001b[0;32m      2\u001b[0m b \u001b[38;5;241m=\u001b[39m \u001b[38;5;28mint\u001b[39m(\u001b[38;5;28minput\u001b[39m())\n\u001b[1;32m----> 3\u001b[0m math\u001b[38;5;241m.\u001b[39msqrt(a\u001b[38;5;241m*\u001b[39m\u001b[38;5;241m*\u001b[39m\u001b[38;5;241m2\u001b[39m \u001b[38;5;241m+\u001b[39m b\u001b[38;5;241m*\u001b[39m\u001b[38;5;241m*\u001b[39m\u001b[38;5;241m2\u001b[39m)\n\u001b[0;32m      4\u001b[0m \u001b[38;5;28mprint\u001b[39m(\u001b[38;5;124m\"\u001b[39m\u001b[38;5;124mThe hypotenuse of your triangle is\u001b[39m\u001b[38;5;124m\"\u001b[39m \u001b[38;5;241m+\u001b[39m \u001b[38;5;28mstr\u001b[39m(\u001b[38;5;28mround\u001b[39m(c, \u001b[38;5;241m2\u001b[39m)) \u001b[38;5;241m+\u001b[39m \u001b[38;5;124m\"\u001b[39m\u001b[38;5;124munits.\u001b[39m\u001b[38;5;124m\"\u001b[39m)\n",
      "\u001b[1;31mNameError\u001b[0m: name 'math' is not defined"
     ]
    }
   ],
   "source": [
    "a = int(input())\n",
    "b = int(input())\n",
    "math.sqrt(a**2 + b**2)\n",
    "print(\"The hypotenuse of your triangle is\" + str(round(c, 2)) + \"units.\")"
   ]
  },
  {
   "cell_type": "code",
   "execution_count": null,
   "id": "566f7cc8-cd24-45d9-bd97-32afb6c7991a",
   "metadata": {},
   "outputs": [],
   "source": []
  }
 ],
 "metadata": {
  "kernelspec": {
   "display_name": "Python [conda env:base] *",
   "language": "python",
   "name": "conda-base-py"
  },
  "language_info": {
   "codemirror_mode": {
    "name": "ipython",
    "version": 3
   },
   "file_extension": ".py",
   "mimetype": "text/x-python",
   "name": "python",
   "nbconvert_exporter": "python",
   "pygments_lexer": "ipython3",
   "version": "3.13.5"
  }
 },
 "nbformat": 4,
 "nbformat_minor": 5
}
