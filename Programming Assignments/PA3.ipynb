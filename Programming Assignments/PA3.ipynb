{
 "cells": [
  {
   "cell_type": "markdown",
   "id": "56a7c78c-1446-4fa7-8b3c-7a339862a27c",
   "metadata": {},
   "source": [
    "# Assignment 3: Working with Lists, If Statements, and Loops, Noah Isaac, Fall 2025"
   ]
  },
  {
   "cell_type": "markdown",
   "id": "3b37c632-bc73-4e6f-85c2-826c33cc4a63",
   "metadata": {},
   "source": [
    "**Task 1: Types of Triangles**"
   ]
  },
  {
   "cell_type": "code",
   "execution_count": 15,
   "id": "53e06eea-b422-4492-89fb-0b679c0b7a10",
   "metadata": {},
   "outputs": [
    {
     "name": "stdin",
     "output_type": "stream",
     "text": [
      "Type side A Length: 3\n",
      "Type side B Length: 3\n",
      "Type side C Length: 3\n"
     ]
    },
    {
     "name": "stdout",
     "output_type": "stream",
     "text": [
      "Its an equilateral triangle\n"
     ]
    }
   ],
   "source": [
    "a = int(input(\"Type side A Length:\"))\n",
    "b = int(input(\"Type side B Length:\"))\n",
    "c = int(input(\"Type side C Length:\"))\n",
    "if(a == b and a == c and b == c):\n",
    "    print(\"Its an equilateral triangle\")\n",
    "elif((a == b and a != c) or (a == c and a != b) or (b == c and b != a)):\n",
    "    print(\"Its an isosceles\")\n",
    "else:\n",
    "    print(\"Its a scalene triangle\")"
   ]
  },
  {
   "cell_type": "markdown",
   "id": "57ca844e-62e4-42a9-908a-0d1966557ba9",
   "metadata": {},
   "source": [
    "**Task 2: Student Grades and At-Risk Status**"
   ]
  },
  {
   "cell_type": "code",
   "execution_count": 18,
   "id": "24ca30f9-67a6-4e21-b8a8-c79c5e9a8db8",
   "metadata": {},
   "outputs": [
    {
     "name": "stdin",
     "output_type": "stream",
     "text": [
      "Enter Grades: 30.0\n",
      "Enter Grades: 100.0\n",
      "Enter Grades: 59.0\n",
      "Enter Grades: 98.0\n",
      "Enter Grades: 77.0\n"
     ]
    },
    {
     "name": "stdout",
     "output_type": "stream",
     "text": [
      "Class Average Grade: 72.8\n",
      "Class Max Grade: 100.0\n",
      "Class Min Grade: 30.0\n",
      "2  students are at risk in the course.\n"
     ]
    }
   ],
   "source": [
    "student_grades = []\n",
    "for i in range(0,5):\n",
    "    student_grades.append(float(input(\"Enter Grades:\")))\n",
    "print(\"Class Average Grade:\", sum(student_grades) / len(student_grades))\n",
    "print(\"Class Max Grade:\",max(student_grades))\n",
    "print(\"Class Min Grade:\",min(student_grades))\n",
    "risk = 0\n",
    "for grade in student_grades:\n",
    "    if(grade < 65.0):\n",
    "        risk += 1\n",
    "print(risk, \" students are at risk in the course.\")"
   ]
  },
  {
   "cell_type": "markdown",
   "id": "3553857f-045c-4300-bc84-b74daa5e7a81",
   "metadata": {},
   "source": [
    "**Task 3: Ranges and Multiples**"
   ]
  },
  {
   "cell_type": "code",
   "execution_count": null,
   "id": "bfd4e00f-2df3-4e03-8f98-4a7d4649e6a8",
   "metadata": {},
   "outputs": [],
   "source": [
    "mult_of_2 = [x for x in range(1, 101) if x % 2 == 0]\n",
    "mult_of_3 = [x for x in range(1, 101) if x % 3 == 0]\n",
    "mult_of_both = mult_of_2 + mult_of_3\n",
    "mult_of_both = mult_of_both.sort()\n",
    "mult_of_both = [x for x in mult_of_2 if x in mult_of_3]"
   ]
  },
  {
   "cell_type": "markdown",
   "id": "9b0750b8-ac19-4cd3-bf9a-e2ccc40344f6",
   "metadata": {},
   "source": [
    "**Task 4: Shopping List**"
   ]
  },
  {
   "cell_type": "code",
   "execution_count": 20,
   "id": "b1f7d4a9-0a45-4f7f-adf5-79c3edb610bf",
   "metadata": {},
   "outputs": [
    {
     "name": "stdin",
     "output_type": "stream",
     "text": [
      "Enter an item type 'done' to stop: apple\n",
      "Enter an item type 'done' to stop: bacon\n",
      "Enter an item type 'done' to stop: ham\n",
      "Enter an item type 'done' to stop: cheese\n",
      "Enter an item type 'done' to stop: swiss\n",
      "Enter an item type 'done' to stop: ham\n",
      "Enter an item type 'done' to stop: bacon\n"
     ]
    },
    {
     "name": "stdout",
     "output_type": "stream",
     "text": [
      "Number of Items On List: 7\n",
      "bacon\n",
      "ham\n",
      "swiss\n",
      "cheese\n",
      "ham\n",
      "bacon\n",
      "apple\n",
      "Alphabetical order: None\n",
      "The item  bacon  appears at least twice in the list.\n",
      "The item  bacon  appears at least twice in the list.\n",
      "The item  ham  appears at least twice in the list.\n",
      "The item  ham  appears at least twice in the list.\n"
     ]
    }
   ],
   "source": [
    "shopping_list = [] \n",
    "\n",
    "for i in range(7): \n",
    "    item = input(\"Enter an item type 'done' to stop:\")\n",
    "    if item.lower() == \"done\": \n",
    "        break\n",
    "    shopping_list.append(item)\n",
    "print(\"Number of Items On List:\", len(shopping_list))\n",
    "for item in reversed(shopping_list):\n",
    "    print(item)\n",
    "print(\"Alphabetical order:\", shopping_list.sort())\n",
    "for i in range(len(shopping_list)):\n",
    "    for j in range(len(shopping_list)):\n",
    "        if i != j and shopping_list[i] == shopping_list[j]:\n",
    "            print(\"The item \", shopping_list[i] ,\" appears at least twice in the list.\")"
   ]
  },
  {
   "cell_type": "code",
   "execution_count": null,
   "id": "aa8185c7-eddd-459b-a91a-51601893bda4",
   "metadata": {},
   "outputs": [],
   "source": []
  }
 ],
 "metadata": {
  "kernelspec": {
   "display_name": "Python [conda env:base] *",
   "language": "python",
   "name": "conda-base-py"
  },
  "language_info": {
   "codemirror_mode": {
    "name": "ipython",
    "version": 3
   },
   "file_extension": ".py",
   "mimetype": "text/x-python",
   "name": "python",
   "nbconvert_exporter": "python",
   "pygments_lexer": "ipython3",
   "version": "3.13.5"
  }
 },
 "nbformat": 4,
 "nbformat_minor": 5
}
