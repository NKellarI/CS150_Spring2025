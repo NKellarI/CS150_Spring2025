{
 "cells": [
  {
   "cell_type": "markdown",
   "id": "67e059b5-5c38-4bcb-b403-02b0d2b5a31b",
   "metadata": {},
   "source": [
    "# Noah Isaac - Markdown Practice"
   ]
  },
  {
   "cell_type": "markdown",
   "id": "8e8dc021-703c-4c86-812b-50b77322c442",
   "metadata": {},
   "source": [
    "### I'm Noah. I enjoy working on my collosal pile of unfinished projects! I recently started a internship for a database management job and I can't wait to start."
   ]
  },
  {
   "cell_type": "markdown",
   "id": "60a27b3d-51a5-47b4-982e-fa28fc9039e5",
   "metadata": {},
   "source": [
    "- **Course Activites**\n",
    "    - Programming Assignments\n",
    "    - Quizzes\n",
    "    - Attendance / In-class participation\n",
    "    - Mid-Term Exam\n",
    "    - Project\n",
    " "
   ]
  },
  {
   "cell_type": "markdown",
   "id": "121eb8f2-3e54-43bc-acf9-2da0739c9e9e",
   "metadata": {},
   "source": [
    "- **Course Modules:**\n",
    "    1.  Intro to Databases (Chapter 1)\n",
    "    2. Database Fundamentals, The Relational Model (Chapter 2)\n",
    "    3. SQL Introduction (Includes Attributes, Domains, and Basic Management) (Chapter 7)\n",
    "    4. SELECT statement and Basic Functionality, Using JOINs (Chapter 6)\n",
    "    5. Set Theory in SQL, INSERT, DELETE, and UPDATE (Chapter 6)\n",
    "    6. GROUP BY, HAVING, Subqueries (Chapter 8)\n",
    "    7. The Entity-Relationship Model (Chapter 12)\n",
    "    8. The Entity-Relationship Model Cont. (Chapter 12)\n",
    "    9. Relational Algebra (Chapter 5)\n",
    "    10. Functional Dependencies and Normal Forms (Chapter 14)\n",
    "    11. Security in DB Systems (Chapter 20)\n",
    "    12. Transactions in DB Systems (Chapter 22)\n",
    "    13. Data Warehouses (Chapter 31)\n"
   ]
  },
  {
   "cell_type": "markdown",
   "id": "f2a221ed-28e3-4d50-b5d1-9130c43d9729",
   "metadata": {},
   "source": [
    "- **Languages:**\n",
    "    - **Python!** -> Through _Jupyter and Anaconda_"
   ]
  },
  {
   "cell_type": "markdown",
   "id": "b90760f9-c60c-4386-a400-dc20d67e1663",
   "metadata": {},
   "source": [
    "- **Things Today:**\n",
    "    - `I woke up today`"
   ]
  },
  {
   "cell_type": "markdown",
   "id": "19a5a58b-7568-40b7-9021-a2b44ab50c46",
   "metadata": {},
   "source": [
    "[Link To Github](https://github.com/NKellarI/CS150_Spring2025)"
   ]
  },
  {
   "cell_type": "markdown",
   "id": "fe46bf34-50a8-4b3c-9feb-d6658f3beb66",
   "metadata": {},
   "source": [
    "![Alt text](\\Seal-bellarmine.png \"Bellarmine Logo\")"
   ]
  },
  {
   "cell_type": "markdown",
   "id": "35fbb51b-e7c9-41dc-9d16-d92fa77e4905",
   "metadata": {},
   "source": [
    "I learned how to add a image to a markdown document through a path refernce!"
   ]
  },
  {
   "cell_type": "code",
   "execution_count": null,
   "id": "451999ef-a998-4cb1-b708-9cd8666c6efd",
   "metadata": {},
   "outputs": [],
   "source": []
  }
 ],
 "metadata": {
  "kernelspec": {
   "display_name": "Python [conda env:base] *",
   "language": "python",
   "name": "conda-base-py"
  },
  "language_info": {
   "codemirror_mode": {
    "name": "ipython",
    "version": 3
   },
   "file_extension": ".py",
   "mimetype": "text/x-python",
   "name": "python",
   "nbconvert_exporter": "python",
   "pygments_lexer": "ipython3",
   "version": "3.13.5"
  }
 },
 "nbformat": 4,
 "nbformat_minor": 5
}
